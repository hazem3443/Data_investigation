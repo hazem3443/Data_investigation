{
 "cells": [
  {
   "cell_type": "markdown",
   "metadata": {},
   "source": [
    "# Project: Investigate a TMDB Dataset\n",
    "\n",
    "## Table of Contents\n",
    "<ul>\n",
    "<li><a href=\"#intro\">Introduction</a></li>\n",
    "<li><a href=\"#wrangling\">Data Wrangling</a></li>\n",
    "<li><a href=\"#eda\">Exploratory Data Analysis</a></li>\n",
    "<li><a href=\"#conclusions\">Conclusions</a></li>\n",
    "<li><a href=\"#limitations\">Limitations</a></li>\n",
    "</ul>"
   ]
  },
  {
   "cell_type": "markdown",
   "metadata": {},
   "source": [
    "<a id='intro'></a>\n",
    "## Introduction\n",
    "\n",
    "### Dataset Description \n",
    "\n",
    "this dataset is saved in a **.csv** file separated with commas and consists of 10866 records and 21 columns some of them are listed below with their meanings and hints\n",
    "\n",
    "- **cast, keywords, genres, production_companies** contain multiple values separated by pipe (|) characters.\n",
    "- **popularity** descrips the popularity of this movie \n",
    "- **overview** give an overview about the movie story \n",
    "- **runtime** the time of the movie in mins\n",
    "- **vote_count** number of users voted on this movie\n",
    "- **vote_average** the average rating of this movie\n",
    "- **release_year** the year at which the movie is released\n",
    "\n",
    "### Questions for Analysis\n",
    "\n",
    "<ul>\n",
    "<li><a href=\"#q1\">Which genres are most popular from year to year?</a></li>\n",
    "<li><a href=\"#q2\">What kinds of properties are associated with movies that have high revenues?</a></li>\n",
    "</ul>\n",
    "\n"
   ]
  },
  {
   "cell_type": "code",
   "execution_count": 1,
   "metadata": {},
   "outputs": [],
   "source": [
    "# import statements for all of the packages that you\n",
    "import numpy as np\n",
    "import pandas as pd\n",
    "import matplotlib.pyplot as plt\n",
    "import seaborn as sns\n",
    "#use magic inline matplotlip to show plots in this jupyter notebook tab\n",
    "%matplotlib inline "
   ]
  },
  {
   "cell_type": "markdown",
   "metadata": {},
   "source": [
    "<a id='wrangling'></a>\n",
    "## Data Wrangling\n",
    "\n",
    "### General Properties"
   ]
  },
  {
   "cell_type": "code",
   "execution_count": 2,
   "metadata": {},
   "outputs": [],
   "source": [
    "# Load your data and print out a few lines. Perform operations to inspect data\n",
    "df = pd.read_csv('tmdb-movies.csv')\n",
    "# show all columns to review its contents\n",
    "pd.set_option('display.max_columns', None)\n"
   ]
  },
  {
   "cell_type": "code",
   "execution_count": 3,
   "metadata": {},
   "outputs": [
    {
     "data": {
      "text/html": [
       "<div>\n",
       "<style scoped>\n",
       "    .dataframe tbody tr th:only-of-type {\n",
       "        vertical-align: middle;\n",
       "    }\n",
       "\n",
       "    .dataframe tbody tr th {\n",
       "        vertical-align: top;\n",
       "    }\n",
       "\n",
       "    .dataframe thead th {\n",
       "        text-align: right;\n",
       "    }\n",
       "</style>\n",
       "<table border=\"1\" class=\"dataframe\">\n",
       "  <thead>\n",
       "    <tr style=\"text-align: right;\">\n",
       "      <th></th>\n",
       "      <th>id</th>\n",
       "      <th>imdb_id</th>\n",
       "      <th>popularity</th>\n",
       "      <th>budget</th>\n",
       "      <th>revenue</th>\n",
       "      <th>original_title</th>\n",
       "      <th>cast</th>\n",
       "      <th>homepage</th>\n",
       "      <th>director</th>\n",
       "      <th>tagline</th>\n",
       "      <th>keywords</th>\n",
       "      <th>overview</th>\n",
       "      <th>runtime</th>\n",
       "      <th>genres</th>\n",
       "      <th>production_companies</th>\n",
       "      <th>release_date</th>\n",
       "      <th>vote_count</th>\n",
       "      <th>vote_average</th>\n",
       "      <th>release_year</th>\n",
       "      <th>budget_adj</th>\n",
       "      <th>revenue_adj</th>\n",
       "    </tr>\n",
       "  </thead>\n",
       "  <tbody>\n",
       "    <tr>\n",
       "      <th>0</th>\n",
       "      <td>135397</td>\n",
       "      <td>tt0369610</td>\n",
       "      <td>32.985763</td>\n",
       "      <td>150000000</td>\n",
       "      <td>1513528810</td>\n",
       "      <td>Jurassic World</td>\n",
       "      <td>Chris Pratt|Bryce Dallas Howard|Irrfan Khan|Vi...</td>\n",
       "      <td>http://www.jurassicworld.com/</td>\n",
       "      <td>Colin Trevorrow</td>\n",
       "      <td>The park is open.</td>\n",
       "      <td>monster|dna|tyrannosaurus rex|velociraptor|island</td>\n",
       "      <td>Twenty-two years after the events of Jurassic ...</td>\n",
       "      <td>124</td>\n",
       "      <td>Action|Adventure|Science Fiction|Thriller</td>\n",
       "      <td>Universal Studios|Amblin Entertainment|Legenda...</td>\n",
       "      <td>6/9/15</td>\n",
       "      <td>5562</td>\n",
       "      <td>6.5</td>\n",
       "      <td>2015</td>\n",
       "      <td>1.379999e+08</td>\n",
       "      <td>1.392446e+09</td>\n",
       "    </tr>\n",
       "    <tr>\n",
       "      <th>1</th>\n",
       "      <td>76341</td>\n",
       "      <td>tt1392190</td>\n",
       "      <td>28.419936</td>\n",
       "      <td>150000000</td>\n",
       "      <td>378436354</td>\n",
       "      <td>Mad Max: Fury Road</td>\n",
       "      <td>Tom Hardy|Charlize Theron|Hugh Keays-Byrne|Nic...</td>\n",
       "      <td>http://www.madmaxmovie.com/</td>\n",
       "      <td>George Miller</td>\n",
       "      <td>What a Lovely Day.</td>\n",
       "      <td>future|chase|post-apocalyptic|dystopia|australia</td>\n",
       "      <td>An apocalyptic story set in the furthest reach...</td>\n",
       "      <td>120</td>\n",
       "      <td>Action|Adventure|Science Fiction|Thriller</td>\n",
       "      <td>Village Roadshow Pictures|Kennedy Miller Produ...</td>\n",
       "      <td>5/13/15</td>\n",
       "      <td>6185</td>\n",
       "      <td>7.1</td>\n",
       "      <td>2015</td>\n",
       "      <td>1.379999e+08</td>\n",
       "      <td>3.481613e+08</td>\n",
       "    </tr>\n",
       "    <tr>\n",
       "      <th>2</th>\n",
       "      <td>262500</td>\n",
       "      <td>tt2908446</td>\n",
       "      <td>13.112507</td>\n",
       "      <td>110000000</td>\n",
       "      <td>295238201</td>\n",
       "      <td>Insurgent</td>\n",
       "      <td>Shailene Woodley|Theo James|Kate Winslet|Ansel...</td>\n",
       "      <td>http://www.thedivergentseries.movie/#insurgent</td>\n",
       "      <td>Robert Schwentke</td>\n",
       "      <td>One Choice Can Destroy You</td>\n",
       "      <td>based on novel|revolution|dystopia|sequel|dyst...</td>\n",
       "      <td>Beatrice Prior must confront her inner demons ...</td>\n",
       "      <td>119</td>\n",
       "      <td>Adventure|Science Fiction|Thriller</td>\n",
       "      <td>Summit Entertainment|Mandeville Films|Red Wago...</td>\n",
       "      <td>3/18/15</td>\n",
       "      <td>2480</td>\n",
       "      <td>6.3</td>\n",
       "      <td>2015</td>\n",
       "      <td>1.012000e+08</td>\n",
       "      <td>2.716190e+08</td>\n",
       "    </tr>\n",
       "  </tbody>\n",
       "</table>\n",
       "</div>"
      ],
      "text/plain": [
       "       id    imdb_id  popularity     budget     revenue      original_title  \\\n",
       "0  135397  tt0369610   32.985763  150000000  1513528810      Jurassic World   \n",
       "1   76341  tt1392190   28.419936  150000000   378436354  Mad Max: Fury Road   \n",
       "2  262500  tt2908446   13.112507  110000000   295238201           Insurgent   \n",
       "\n",
       "                                                cast  \\\n",
       "0  Chris Pratt|Bryce Dallas Howard|Irrfan Khan|Vi...   \n",
       "1  Tom Hardy|Charlize Theron|Hugh Keays-Byrne|Nic...   \n",
       "2  Shailene Woodley|Theo James|Kate Winslet|Ansel...   \n",
       "\n",
       "                                         homepage          director  \\\n",
       "0                   http://www.jurassicworld.com/   Colin Trevorrow   \n",
       "1                     http://www.madmaxmovie.com/     George Miller   \n",
       "2  http://www.thedivergentseries.movie/#insurgent  Robert Schwentke   \n",
       "\n",
       "                      tagline  \\\n",
       "0           The park is open.   \n",
       "1          What a Lovely Day.   \n",
       "2  One Choice Can Destroy You   \n",
       "\n",
       "                                            keywords  \\\n",
       "0  monster|dna|tyrannosaurus rex|velociraptor|island   \n",
       "1   future|chase|post-apocalyptic|dystopia|australia   \n",
       "2  based on novel|revolution|dystopia|sequel|dyst...   \n",
       "\n",
       "                                            overview  runtime  \\\n",
       "0  Twenty-two years after the events of Jurassic ...      124   \n",
       "1  An apocalyptic story set in the furthest reach...      120   \n",
       "2  Beatrice Prior must confront her inner demons ...      119   \n",
       "\n",
       "                                      genres  \\\n",
       "0  Action|Adventure|Science Fiction|Thriller   \n",
       "1  Action|Adventure|Science Fiction|Thriller   \n",
       "2         Adventure|Science Fiction|Thriller   \n",
       "\n",
       "                                production_companies release_date  vote_count  \\\n",
       "0  Universal Studios|Amblin Entertainment|Legenda...       6/9/15        5562   \n",
       "1  Village Roadshow Pictures|Kennedy Miller Produ...      5/13/15        6185   \n",
       "2  Summit Entertainment|Mandeville Films|Red Wago...      3/18/15        2480   \n",
       "\n",
       "   vote_average  release_year    budget_adj   revenue_adj  \n",
       "0           6.5          2015  1.379999e+08  1.392446e+09  \n",
       "1           7.1          2015  1.379999e+08  3.481613e+08  \n",
       "2           6.3          2015  1.012000e+08  2.716190e+08  "
      ]
     },
     "execution_count": 3,
     "metadata": {},
     "output_type": "execute_result"
    }
   ],
   "source": [
    "df.head(3)"
   ]
  },
  {
   "cell_type": "code",
   "execution_count": 4,
   "metadata": {},
   "outputs": [
    {
     "name": "stdout",
     "output_type": "stream",
     "text": [
      "<class 'pandas.core.frame.DataFrame'>\n",
      "RangeIndex: 10866 entries, 0 to 10865\n",
      "Data columns (total 21 columns):\n",
      " #   Column                Non-Null Count  Dtype  \n",
      "---  ------                --------------  -----  \n",
      " 0   id                    10866 non-null  int64  \n",
      " 1   imdb_id               10856 non-null  object \n",
      " 2   popularity            10866 non-null  float64\n",
      " 3   budget                10866 non-null  int64  \n",
      " 4   revenue               10866 non-null  int64  \n",
      " 5   original_title        10866 non-null  object \n",
      " 6   cast                  10790 non-null  object \n",
      " 7   homepage              2936 non-null   object \n",
      " 8   director              10822 non-null  object \n",
      " 9   tagline               8042 non-null   object \n",
      " 10  keywords              9373 non-null   object \n",
      " 11  overview              10862 non-null  object \n",
      " 12  runtime               10866 non-null  int64  \n",
      " 13  genres                10843 non-null  object \n",
      " 14  production_companies  9836 non-null   object \n",
      " 15  release_date          10866 non-null  object \n",
      " 16  vote_count            10866 non-null  int64  \n",
      " 17  vote_average          10866 non-null  float64\n",
      " 18  release_year          10866 non-null  int64  \n",
      " 19  budget_adj            10866 non-null  float64\n",
      " 20  revenue_adj           10866 non-null  float64\n",
      "dtypes: float64(4), int64(6), object(11)\n",
      "memory usage: 1.7+ MB\n"
     ]
    }
   ],
   "source": [
    "df.info()"
   ]
  },
  {
   "cell_type": "code",
   "execution_count": 5,
   "metadata": {},
   "outputs": [
    {
     "data": {
      "text/plain": [
       "(10866, 21)"
      ]
     },
     "execution_count": 5,
     "metadata": {},
     "output_type": "execute_result"
    }
   ],
   "source": [
    "df.shape"
   ]
  },
  {
   "cell_type": "code",
   "execution_count": 6,
   "metadata": {
    "scrolled": true
   },
   "outputs": [
    {
     "data": {
      "text/plain": [
       "id                        int64\n",
       "imdb_id                  object\n",
       "popularity              float64\n",
       "budget                    int64\n",
       "revenue                   int64\n",
       "original_title           object\n",
       "cast                     object\n",
       "homepage                 object\n",
       "director                 object\n",
       "tagline                  object\n",
       "keywords                 object\n",
       "overview                 object\n",
       "runtime                   int64\n",
       "genres                   object\n",
       "production_companies     object\n",
       "release_date             object\n",
       "vote_count                int64\n",
       "vote_average            float64\n",
       "release_year              int64\n",
       "budget_adj              float64\n",
       "revenue_adj             float64\n",
       "dtype: object"
      ]
     },
     "execution_count": 6,
     "metadata": {},
     "output_type": "execute_result"
    }
   ],
   "source": [
    "df.dtypes"
   ]
  },
  {
   "cell_type": "code",
   "execution_count": 7,
   "metadata": {},
   "outputs": [
    {
     "data": {
      "image/png": "[encoded data removed]",
      "text/plain": [
       "<Figure size 576x576 with 12 Axes>"
      ]
     },
     "metadata": {
      "needs_background": "light"
     },
     "output_type": "display_data"
    }
   ],
   "source": [
    "df.hist(figsize=(8,8));"
   ]
  },
  {
   "cell_type": "code",
   "execution_count": 8,
   "metadata": {},
   "outputs": [
    {
     "data": {
      "text/plain": [
       "'Chris Buck|Jennifer Lee'"
      ]
     },
     "execution_count": 8,
     "metadata": {},
     "output_type": "execute_result"
    }
   ],
   "source": [
    "df['director'][100]"
   ]
  },
  {
   "cell_type": "markdown",
   "metadata": {},
   "source": [
    "### data investigation\n",
    "we can conclude that\n",
    "- each **cast** column have only 5 members so we can separate them in 5 columns each have a cast member\n",
    "- **director** column may have one or more directors so we canextract them by the same way above or by creating a  separate data frame with id maring its location in the main dataframe\n",
    "- also for **keywords**, **genres**, **production_companies** we would do the same becasue it is also separated by oring char '|'\n",
    "\n",
    "also many columns such as **budget** and **revenue**, contain zeros so for providing a convenient analysis, the columns **budget_adj**, **revenue_adj**, **budget**, **revenue** and **runtime** will change its zero values to **Nan** and will drop these respective colums of nan values for the analysis."
   ]
  },
  {
   "cell_type": "markdown",
   "metadata": {},
   "source": [
    "\n",
    "### Data Cleaning "
   ]
  },
  {
   "cell_type": "code",
   "execution_count": 9,
   "metadata": {},
   "outputs": [],
   "source": [
    "#start with cleaning all nan values from our dataframe for convenient analysis by focusing on data loaded records\n",
    "df['revenue_adj'].replace(0, np.NAN, inplace=True)\n",
    "df['revenue'].replace(0, np.NAN, inplace=True)\n",
    "df['budget_adj'].replace(0, np.NAN, inplace=True)\n",
    "df['budget'].replace(0, np.NAN, inplace=True)\n",
    "df['runtime'].replace(0, np.NAN, inplace=True)\n",
    "\n",
    "# drop all those nan value records from our dataframe\n",
    "df.dropna(axis=0, inplace=True)"
   ]
  },
  {
   "cell_type": "code",
   "execution_count": 10,
   "metadata": {},
   "outputs": [],
   "source": [
    "# separate all the data fields with '|' separator into columns so we would have a dataframes for each column\n",
    "# this dataframe is linked to the main dataframe with its record index so we can join them\n",
    "cast_df = (df['cast'].str.split('|', expand=True).rename(columns=lambda x: f\"cast_{x+1}\"))\n",
    "\n",
    "director_df = (df['director'].str.split('|', expand=True).rename(columns=lambda x: f\"director_{x+1}\"))\n",
    "\n",
    "keywords_df = (df['keywords'].str.split('|', expand=True).rename(columns=lambda x: f\"keywords_{x+1}\"))\n",
    "\n",
    "genres_df = (df['genres'].str.split('|', expand=True).rename(columns=lambda x: f\"genres_{x+1}\"))\n",
    "\n",
    "prod_comp_df = (df['production_companies'].str.split('|', expand=True).rename(columns=lambda x: f\"production_companies_{x+1}\"))"
   ]
  },
  {
   "cell_type": "code",
   "execution_count": 11,
   "metadata": {},
   "outputs": [],
   "source": [
    "# merge those newly created fields to our dataframe\n",
    "df = df.join([cast_df, director_df, keywords_df, genres_df, prod_comp_df])\n",
    "\n",
    "# remove these already parsed columns and those not needed ('imdb_id', 'homepage', 'overview', 'release_date', 'tagline')\n",
    "df = df.drop(['cast', 'keywords', 'director', 'genres', 'production_companies', 'imdb_id', 'homepage', 'overview', 'release_date', 'tagline'], axis=1)"
   ]
  },
  {
   "cell_type": "markdown",
   "metadata": {},
   "source": [
    "![image info](https://cdn.analyticsvidhya.com/wp-content/uploads/2020/02/jip_meme3.png)"
   ]
  },
  {
   "cell_type": "markdown",
   "metadata": {},
   "source": [
    "<a id='eda'></a>\n",
    "## Exploratory Data Analysis\n",
    "\n",
    "> **Tip**: Now that you've trimmed and cleaned your data, you're ready to move on to exploration. **Compute statistics** and **create visualizations** with the goal of addressing the research questions that you posed in the Introduction section. You should compute the relevant statistics throughout the analysis when an inference is made about the data. Note that at least two or more kinds of plots should be created as part of the exploration, and you must  compare and show trends in the varied visualizations. \n",
    "\n",
    "\n",
    "\n",
    "> **Tip**: - Investigate the stated question(s) from multiple angles. It is recommended that you be systematic with your approach. Look at one variable at a time, and then follow it up by looking at relationships between variables. You should explore at least three variables in relation to the primary question. This can be an exploratory relationship between three variables of interest, or looking at how two independent variables relate to a single dependent variable of interest. Lastly, you  should perform both single-variable (1d) and multiple-variable (2d) explorations."
   ]
  },
  {
   "cell_type": "markdown",
   "metadata": {},
   "source": [
    "<a id='q1'></a>\n",
    "### Research Question 1  -  Which genres are most popular from year to year?"
   ]
  },
  {
   "cell_type": "code",
   "execution_count": 12,
   "metadata": {},
   "outputs": [
    {
     "data": {
      "text/plain": [
       "Not equal    31\n",
       "Equal        20\n",
       "Name: is_equal, dtype: int64"
      ]
     },
     "execution_count": 12,
     "metadata": {},
     "output_type": "execute_result"
    }
   ],
   "source": [
    "# Add release_year to genres_df\n",
    "genres_year_df = genres_df.join(df['release_year'])\n",
    "\n",
    "#creates an array of years mentioned in release year \n",
    "years = genres_year_df['release_year'].unique()\n",
    "\n",
    "#create list of objects or tuples for most common genres info in each year\n",
    "most_common_genres = [] \n",
    "\n",
    "for year in years:\n",
    "    #create df filtered by this year mentioned in years\n",
    "    this_year = genres_year_df[genres_year_df['release_year'] == year] \n",
    "    \n",
    "    #focus on data and drop the year\n",
    "    this_year_genres = this_year.drop(['release_year'], axis = 1)\n",
    "    \n",
    "    #use value_count to find the index of maximum genere count meaning the most common one in this year\n",
    "    this_year_genre_most_common = this_year_genres.stack().value_counts().idxmax() \n",
    "\n",
    "    # check that this genres is like the most common one for this year\n",
    "    this_year_records = df[df['release_year'] == year]\n",
    "    this_year_genre_voted = this_year_records.groupby(['genres_1'])['vote_average'].mean().idxmax()\n",
    "    if this_year_genre_most_common == this_year_genre_voted:\n",
    "        is_eq_to_most_common = 'Equal'\n",
    "    else:\n",
    "        is_eq_to_most_common = 'Not equal'\n",
    "        #appends year with value count trough genres_1 - genres_5, the highest average vote_average and indicates if the resulting columns match\n",
    "    most_common_genres.append((year, this_year_genre_most_common, this_year_genre_voted, is_eq_to_most_common))\n",
    "\n",
    "#create dataframe for the most common genres list filled with data of most common genres and most voted genres \n",
    "df_most_popular = pd.DataFrame(most_common_genres, columns=['release_year', 'popular_produced_genre', 'popular_voted_gerne', 'is_equal']).sort_values('release_year').reset_index().drop(['index'], axis=1)\n",
    "\n",
    "df_most_popular['is_equal'].value_counts()"
   ]
  },
  {
   "cell_type": "markdown",
   "metadata": {},
   "source": [
    "## from this we can conclude some info with plots"
   ]
  },
  {
   "cell_type": "code",
   "execution_count": 13,
   "metadata": {},
   "outputs": [
    {
     "data": {
      "image/png": "[encoded data removed]",
      "text/plain": [
       "<Figure size 792x432 with 1 Axes>"
      ]
     },
     "metadata": {},
     "output_type": "display_data"
    }
   ],
   "source": [
    "df_most_popular['is_equal'].value_counts().plot.pie(subplots=True, figsize=(11, 6),ylabel=\"\");"
   ]
  },
  {
   "cell_type": "markdown",
   "metadata": {},
   "source": [
    "the most voted genres usually is't the most common across year or we can say that the most common movie in the year not necessarily a most voted movie"
   ]
  },
  {
   "cell_type": "code",
   "execution_count": 14,
   "metadata": {},
   "outputs": [
    {
     "data": {
      "image/png": "[encoded data removed]",
      "text/plain": [
       "<Figure size 792x432 with 1 Axes>"
      ]
     },
     "metadata": {},
     "output_type": "display_data"
    }
   ],
   "source": [
    "df_most_popular['popular_produced_genre'].value_counts().plot.pie(subplots=True, figsize=(11, 6),ylabel=\"\");"
   ]
  },
  {
   "cell_type": "markdown",
   "metadata": {},
   "source": [
    "the most produced genre is **Drama**, also the least produced genre is **Romance** so we can say that the producers are not interested in Romance or they are more interested in Drama overcome all other genres"
   ]
  },
  {
   "cell_type": "code",
   "execution_count": 15,
   "metadata": {},
   "outputs": [
    {
     "data": {
      "image/png": "[encoded data removed]",
      "text/plain": [
       "<Figure size 792x432 with 1 Axes>"
      ]
     },
     "metadata": {},
     "output_type": "display_data"
    }
   ],
   "source": [
    "df_most_popular['popular_voted_gerne'].value_counts().plot.pie(subplots=True, figsize=(11, 6),ylabel=\"\");"
   ]
  },
  {
   "cell_type": "markdown",
   "metadata": {},
   "source": [
    "the most voted genre is **Adventure** and the least voted genre is **Western** so we can say that people are more interested in Adventure movies than any other genre"
   ]
  },
  {
   "cell_type": "markdown",
   "metadata": {},
   "source": [
    "<a id='q2'></a>\n",
    "### Research Question 2  -  What kinds of properties are associated with movies that have high revenues?"
   ]
  },
  {
   "cell_type": "code",
   "execution_count": 16,
   "metadata": {},
   "outputs": [],
   "source": [
    "df_revenue = df\n",
    "#Performing basic statistic in order to create 4 classifications of the revenue_adj\n",
    "\n",
    "df_revenue['revenue_level'] = pd.cut(df_revenue['revenue_adj'],\n",
    "                                     [4.300000e+01,2.764890e+07,8.674770e+07,2.351178e+08,2.827124e+09],\n",
    "                                     labels=['very low' ,'low' ,'medium' ,'high' ])\n",
    "df_revenue['revenue_level'].unique()\n",
    "revenue_levels = df_revenue['revenue_level'].unique().tolist()\n",
    "del revenue_levels[-1]\n",
    "# revenue_levels\n",
    "#nested dictionary is created with 8 attributes based on revenue_levels\n",
    "\n",
    "movie_data = {}\n",
    "\n",
    "for level in revenue_levels:\n",
    "    \n",
    "    #stack.value_counts seciton\n",
    "    grouped_data_by_level = df_revenue[df_revenue['revenue_level'] == level]\n",
    "    \n",
    "    #find frequent director for revenue_level\n",
    "    freq_dict_for_lvl = grouped_data_by_level.loc[:, 'director_1': 'director_6'].stack().value_counts().idxmax()\n",
    "\n",
    "    #find frequent cast for revenue_level\n",
    "    frequent_cast = grouped_data_by_level.loc[:, 'cast_1': 'cast_5'].stack().value_counts().idxmax()\n",
    "    \n",
    "    #find frequent genres for revenue_level\n",
    "    frequent_genres = grouped_data_by_level.loc[:, 'genres_1': 'genres_5'].stack().value_counts().idxmax()\n",
    "    \n",
    "    #find frequent production companies for revenue_level\n",
    "    frequent_production = grouped_data_by_level.loc[:, 'production_companies_1': 'production_companies_5'].stack().value_counts().idxmax()\n",
    "    \n",
    "    #release_year\n",
    "    release_year = grouped_data_by_level['release_year'].value_counts().idxmax()\n",
    "    \n",
    "    #average section\n",
    "    avg_duration = grouped_data_by_level['runtime'].mean()\n",
    "    avg_budget = grouped_data_by_level['budget_adj'].mean()\n",
    "    avg_vote = grouped_data_by_level['vote_average'].mean()\n",
    "    \n",
    "    #creating nested dictionary\n",
    "    movie_data[level] = {'avg_duration' : avg_duration, \n",
    "                         'frequent_director' : freq_dict_for_lvl, \n",
    "                         'avg_budget' : avg_budget, \n",
    "                         'avg_vote' : avg_vote,\n",
    "                         'frequent_cast' : frequent_cast,\n",
    "                         'frequent_genres' : frequent_genres,\n",
    "                         'release_year' : release_year,\n",
    "                         'frequent_production_companies' : frequent_production}\n",
    "\n",
    "#transform dict into dataframe\n",
    "movie_classes = []\n",
    "frames = []\n",
    "\n",
    "def dict_transform(movie_data,movie_classes,frames):\n",
    "    for movie_class, d in movie_data.items():\n",
    "        movie_classes.append(movie_class)\n",
    "        frames.append(pd.DataFrame.from_dict(d, orient='index'))\n",
    "\n",
    "dict_transform(movie_data,movie_classes,frames)\n",
    "\n",
    "properties = pd.concat(frames, keys=movie_classes)\n",
    "\n",
    "properties.columns = ['values']"
   ]
  },
  {
   "cell_type": "code",
   "execution_count": 17,
   "metadata": {},
   "outputs": [],
   "source": [
    "def draw_bar_by_prop(properties,prop_name):\n",
    "    main_label = ['very low' ,'low' ,'medium' ,'high' ]\n",
    "    prop = []\n",
    "    for l in main_label:\n",
    "        prop.append(properties['values'][l][prop_name])\n",
    "    \n",
    "    df = pd.DataFrame({'revenue level':main_label, prop_name:prop})\n",
    "    df.plot.bar(x='revenue level', y=prop_name, rot=0, subplots=True)"
   ]
  },
  {
   "cell_type": "code",
   "execution_count": 18,
   "metadata": {},
   "outputs": [
    {
     "data": {
      "image/png": "[encoded data removed]",
      "text/plain": [
       "<Figure size 432x288 with 1 Axes>"
      ]
     },
     "metadata": {
      "needs_background": "light"
     },
     "output_type": "display_data"
    }
   ],
   "source": [
    "draw_bar_by_prop(properties,'avg_duration')"
   ]
  },
  {
   "cell_type": "markdown",
   "metadata": {},
   "source": [
    "the average duration for each revenue level is very close to each other which indicates that the movies with the highest revenue are most common to have a slightly higher duration."
   ]
  },
  {
   "cell_type": "code",
   "execution_count": 19,
   "metadata": {},
   "outputs": [
    {
     "data": {
      "image/png": "[encoded data removed]",
      "text/plain": [
       "<Figure size 432x288 with 1 Axes>"
      ]
     },
     "metadata": {
      "needs_background": "light"
     },
     "output_type": "display_data"
    }
   ],
   "source": [
    "draw_bar_by_prop(properties,'avg_vote')"
   ]
  },
  {
   "cell_type": "markdown",
   "metadata": {},
   "source": [
    "the average votes for the high revenue level are most likely to have slightly higher average votes than lower revenue levels which mean that with high revenue levels votes are most likely to be higher than lower levels"
   ]
  },
  {
   "cell_type": "code",
   "execution_count": 20,
   "metadata": {
    "scrolled": true
   },
   "outputs": [
    {
     "data": {
      "image/png": "[encoded data removed]",
      "text/plain": [
       "<Figure size 432x288 with 1 Axes>"
      ]
     },
     "metadata": {
      "needs_background": "light"
     },
     "output_type": "display_data"
    }
   ],
   "source": [
    "draw_bar_by_prop(properties,'avg_budget')"
   ]
  },
  {
   "cell_type": "markdown",
   "metadata": {},
   "source": [
    "also, the movies with higher revenue levels have the highest average budget across all other levels which means that to produce a movie with high revenue level you most likely need to have a high budget."
   ]
  },
  {
   "cell_type": "code",
   "execution_count": 21,
   "metadata": {},
   "outputs": [],
   "source": [
    "def draw_PI_by_prop(properties,prop_name):\n",
    "    main_label = ['very low' ,'low' ,'medium' ,'high' ]\n",
    "    prop = []\n",
    "    for l in main_label:\n",
    "        prop.append(properties['values'][l][prop_name])\n",
    "    \n",
    "    df = pd.DataFrame({prop_name:prop},\n",
    "                  index=main_label)\n",
    "    df.plot.pie(y=prop_name, figsize=(5, 5),subplots=True)"
   ]
  },
  {
   "cell_type": "code",
   "execution_count": 22,
   "metadata": {},
   "outputs": [
    {
     "data": {
      "image/png": "[encoded data removed]",
      "text/plain": [
       "<Figure size 360x360 with 1 Axes>"
      ]
     },
     "metadata": {},
     "output_type": "display_data"
    }
   ],
   "source": [
    "draw_PI_by_prop(properties,'avg_duration')"
   ]
  },
  {
   "cell_type": "markdown",
   "metadata": {},
   "source": [
    "high revenue level has the highest percentage of average movies durations between all other levels."
   ]
  },
  {
   "cell_type": "code",
   "execution_count": 23,
   "metadata": {
    "scrolled": true
   },
   "outputs": [
    {
     "data": {
      "image/png": "[encoded data removed]",
      "text/plain": [
       "<Figure size 360x360 with 1 Axes>"
      ]
     },
     "metadata": {},
     "output_type": "display_data"
    }
   ],
   "source": [
    "draw_PI_by_prop(properties,'avg_vote')"
   ]
  },
  {
   "cell_type": "markdown",
   "metadata": {},
   "source": [
    "revenue levels have a slightly equally percentage of average votes across all levels"
   ]
  },
  {
   "cell_type": "code",
   "execution_count": 24,
   "metadata": {},
   "outputs": [
    {
     "data": {
      "image/png": "[encoded data removed]",
      "text/plain": [
       "<Figure size 360x360 with 1 Axes>"
      ]
     },
     "metadata": {},
     "output_type": "display_data"
    }
   ],
   "source": [
    "draw_PI_by_prop(properties,'avg_budget')"
   ]
  },
  {
   "cell_type": "markdown",
   "metadata": {},
   "source": [
    "average budget is very high with high revenue level than all other levels also we can notice that it have a relationship here so we can say that the more the budget is, the more the revenue will be but actually, that rule is not common in general but we can conclude that it is common for our dataset."
   ]
  },
  {
   "cell_type": "code",
   "execution_count": 25,
   "metadata": {
    "scrolled": true
   },
   "outputs": [
    {
     "data": {
      "text/html": [
       "<div>\n",
       "<style scoped>\n",
       "    .dataframe tbody tr th:only-of-type {\n",
       "        vertical-align: middle;\n",
       "    }\n",
       "\n",
       "    .dataframe tbody tr th {\n",
       "        vertical-align: top;\n",
       "    }\n",
       "\n",
       "    .dataframe thead th {\n",
       "        text-align: right;\n",
       "    }\n",
       "</style>\n",
       "<table border=\"1\" class=\"dataframe\">\n",
       "  <thead>\n",
       "    <tr style=\"text-align: right;\">\n",
       "      <th></th>\n",
       "      <th>id</th>\n",
       "      <th>popularity</th>\n",
       "      <th>budget</th>\n",
       "      <th>revenue</th>\n",
       "      <th>runtime</th>\n",
       "      <th>vote_count</th>\n",
       "      <th>vote_average</th>\n",
       "      <th>release_year</th>\n",
       "      <th>budget_adj</th>\n",
       "      <th>revenue_adj</th>\n",
       "    </tr>\n",
       "  </thead>\n",
       "  <tbody>\n",
       "    <tr>\n",
       "      <th>id</th>\n",
       "      <td>1.000000</td>\n",
       "      <td>0.189301</td>\n",
       "      <td>-0.050921</td>\n",
       "      <td>-0.031441</td>\n",
       "      <td>-0.013123</td>\n",
       "      <td>0.059368</td>\n",
       "      <td>0.004985</td>\n",
       "      <td>0.494397</td>\n",
       "      <td>-0.116021</td>\n",
       "      <td>-0.102211</td>\n",
       "    </tr>\n",
       "    <tr>\n",
       "      <th>popularity</th>\n",
       "      <td>0.189301</td>\n",
       "      <td>1.000000</td>\n",
       "      <td>0.432791</td>\n",
       "      <td>0.594755</td>\n",
       "      <td>0.322390</td>\n",
       "      <td>0.744088</td>\n",
       "      <td>0.355904</td>\n",
       "      <td>0.059243</td>\n",
       "      <td>0.419863</td>\n",
       "      <td>0.549299</td>\n",
       "    </tr>\n",
       "    <tr>\n",
       "      <th>budget</th>\n",
       "      <td>-0.050921</td>\n",
       "      <td>0.432791</td>\n",
       "      <td>1.000000</td>\n",
       "      <td>0.706888</td>\n",
       "      <td>0.337373</td>\n",
       "      <td>0.583038</td>\n",
       "      <td>0.075168</td>\n",
       "      <td>0.179160</td>\n",
       "      <td>0.985112</td>\n",
       "      <td>0.566835</td>\n",
       "    </tr>\n",
       "    <tr>\n",
       "      <th>revenue</th>\n",
       "      <td>-0.031441</td>\n",
       "      <td>0.594755</td>\n",
       "      <td>0.706888</td>\n",
       "      <td>1.000000</td>\n",
       "      <td>0.371226</td>\n",
       "      <td>0.775374</td>\n",
       "      <td>0.296501</td>\n",
       "      <td>0.028022</td>\n",
       "      <td>0.713706</td>\n",
       "      <td>0.913802</td>\n",
       "    </tr>\n",
       "    <tr>\n",
       "      <th>runtime</th>\n",
       "      <td>-0.013123</td>\n",
       "      <td>0.322390</td>\n",
       "      <td>0.337373</td>\n",
       "      <td>0.371226</td>\n",
       "      <td>1.000000</td>\n",
       "      <td>0.426505</td>\n",
       "      <td>0.385210</td>\n",
       "      <td>-0.071863</td>\n",
       "      <td>0.361985</td>\n",
       "      <td>0.371980</td>\n",
       "    </tr>\n",
       "    <tr>\n",
       "      <th>vote_count</th>\n",
       "      <td>0.059368</td>\n",
       "      <td>0.744088</td>\n",
       "      <td>0.583038</td>\n",
       "      <td>0.775374</td>\n",
       "      <td>0.426505</td>\n",
       "      <td>1.000000</td>\n",
       "      <td>0.464812</td>\n",
       "      <td>0.071290</td>\n",
       "      <td>0.572798</td>\n",
       "      <td>0.703183</td>\n",
       "    </tr>\n",
       "    <tr>\n",
       "      <th>vote_average</th>\n",
       "      <td>0.004985</td>\n",
       "      <td>0.355904</td>\n",
       "      <td>0.075168</td>\n",
       "      <td>0.296501</td>\n",
       "      <td>0.385210</td>\n",
       "      <td>0.464812</td>\n",
       "      <td>1.000000</td>\n",
       "      <td>-0.163737</td>\n",
       "      <td>0.088272</td>\n",
       "      <td>0.322503</td>\n",
       "    </tr>\n",
       "    <tr>\n",
       "      <th>release_year</th>\n",
       "      <td>0.494397</td>\n",
       "      <td>0.059243</td>\n",
       "      <td>0.179160</td>\n",
       "      <td>0.028022</td>\n",
       "      <td>-0.071863</td>\n",
       "      <td>0.071290</td>\n",
       "      <td>-0.163737</td>\n",
       "      <td>1.000000</td>\n",
       "      <td>0.056174</td>\n",
       "      <td>-0.228469</td>\n",
       "    </tr>\n",
       "    <tr>\n",
       "      <th>budget_adj</th>\n",
       "      <td>-0.116021</td>\n",
       "      <td>0.419863</td>\n",
       "      <td>0.985112</td>\n",
       "      <td>0.713706</td>\n",
       "      <td>0.361985</td>\n",
       "      <td>0.572798</td>\n",
       "      <td>0.088272</td>\n",
       "      <td>0.056174</td>\n",
       "      <td>1.000000</td>\n",
       "      <td>0.613093</td>\n",
       "    </tr>\n",
       "    <tr>\n",
       "      <th>revenue_adj</th>\n",
       "      <td>-0.102211</td>\n",
       "      <td>0.549299</td>\n",
       "      <td>0.566835</td>\n",
       "      <td>0.913802</td>\n",
       "      <td>0.371980</td>\n",
       "      <td>0.703183</td>\n",
       "      <td>0.322503</td>\n",
       "      <td>-0.228469</td>\n",
       "      <td>0.613093</td>\n",
       "      <td>1.000000</td>\n",
       "    </tr>\n",
       "  </tbody>\n",
       "</table>\n",
       "</div>"
      ],
      "text/plain": [
       "                    id  popularity    budget   revenue   runtime  vote_count  \\\n",
       "id            1.000000    0.189301 -0.050921 -0.031441 -0.013123    0.059368   \n",
       "popularity    0.189301    1.000000  0.432791  0.594755  0.322390    0.744088   \n",
       "budget       -0.050921    0.432791  1.000000  0.706888  0.337373    0.583038   \n",
       "revenue      -0.031441    0.594755  0.706888  1.000000  0.371226    0.775374   \n",
       "runtime      -0.013123    0.322390  0.337373  0.371226  1.000000    0.426505   \n",
       "vote_count    0.059368    0.744088  0.583038  0.775374  0.426505    1.000000   \n",
       "vote_average  0.004985    0.355904  0.075168  0.296501  0.385210    0.464812   \n",
       "release_year  0.494397    0.059243  0.179160  0.028022 -0.071863    0.071290   \n",
       "budget_adj   -0.116021    0.419863  0.985112  0.713706  0.361985    0.572798   \n",
       "revenue_adj  -0.102211    0.549299  0.566835  0.913802  0.371980    0.703183   \n",
       "\n",
       "              vote_average  release_year  budget_adj  revenue_adj  \n",
       "id                0.004985      0.494397   -0.116021    -0.102211  \n",
       "popularity        0.355904      0.059243    0.419863     0.549299  \n",
       "budget            0.075168      0.179160    0.985112     0.566835  \n",
       "revenue           0.296501      0.028022    0.713706     0.913802  \n",
       "runtime           0.385210     -0.071863    0.361985     0.371980  \n",
       "vote_count        0.464812      0.071290    0.572798     0.703183  \n",
       "vote_average      1.000000     -0.163737    0.088272     0.322503  \n",
       "release_year     -0.163737      1.000000    0.056174    -0.228469  \n",
       "budget_adj        0.088272      0.056174    1.000000     0.613093  \n",
       "revenue_adj       0.322503     -0.228469    0.613093     1.000000  "
      ]
     },
     "execution_count": 25,
     "metadata": {},
     "output_type": "execute_result"
    }
   ],
   "source": [
    "df_revenue.corr()"
   ]
  },
  {
   "cell_type": "markdown",
   "metadata": {},
   "source": [
    "<a id='conclusions'></a>\n",
    "## Conclusions\n",
    "\n",
    "### first question \n",
    "\n",
    "- **Which genres are most popular from year to year?** \n",
    "this question has shown amazing results, as the most popular genre differed a lot. To the authors surprise, only in 11 occasions the most frequent produced genres was also voted as best genre by the users. In all remaining 40 occasions the two values differed.\n",
    "\n",
    "### second research question\n",
    "- **What kinds of properties are associated with movies that have high revenues?**\n",
    "this question shows The numeric columns of **popularity**, **budget** and **vote_count** show the highest correlations. we can conclude that **movies with higher budgets are able to receive higher revenues**, nevertheless, the correlation not in a very high level. **Vote_count is indicating that the more people vote for a movie, the higher the revenue is**. Most probably, this is not a good indicator for high revenue movies. **High revenue movies indicate that they are most commonly directed by Matt Damon**, **cast Tom Cruise as actor** and contain the genre **Action**.\n"
   ]
  },
  {
   "cell_type": "markdown",
   "metadata": {},
   "source": [
    "<a id='limitations'></a>\n",
    "## Limitations"
   ]
  },
  {
   "cell_type": "markdown",
   "metadata": {},
   "source": [
    "- All results are limited to the **TDMB dataset** and because no-advanced statistics were performed, the results are not generic but we can use them as indicators, and from this dataset, we can conclude some hints.\n",
    "- the popularity is not restricted to a certain country, so we can't validate the eligibility of results for any specific country cause we don't have the information of the location in the **TDMB dataset**.\n",
    "- Also ,one has to consider that many entries in the dataset have been removed due to missing data such as the columns **budget_adj**, **revenue_adj**, **budget**, **revenue** and **runtime** for convenient analysis.\n",
    "- the budget and revenue types are not defined so we can't conclude why is this movie have a high budget or from where it has its revenue, in order to conclude the properties that we can reduce or increase according to its relevancy, also to increase the gain margin."
   ]
  }
 ],
 "metadata": {
  "kernelspec": {
   "display_name": "Python 3 (ipykernel)",
   "language": "python",
   "name": "python3"
  },
  "language_info": {
   "codemirror_mode": {
    "name": "ipython",
    "version": 3
   },
   "file_extension": ".py",
   "mimetype": "text/x-python",
   "name": "python",
   "nbconvert_exporter": "python",
   "pygments_lexer": "ipython3",
   "version": "3.9.7"
  }
 },
 "nbformat": 4,
 "nbformat_minor": 2
}
